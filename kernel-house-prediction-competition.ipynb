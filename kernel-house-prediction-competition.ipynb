{
 "cells": [
  {
   "cell_type": "markdown",
   "metadata": {},
   "source": [
    "1. Data Cleaning and Pre-processing\n",
    "    *   Statistical transformation \n",
    "    *   Dealing with Special Cases \n",
    "    *   Dealing with NA's\n",
    "    *   Delete Outliers \n",
    "2. Modeling\n",
    "    * GBDT\n",
    "    * XGB\n",
    "    * Lasso\n",
    "    * Ridge \n",
    "3. Submission\n"
   ]
  },
  {
   "cell_type": "markdown",
   "metadata": {},
   "source": [
    "**Module Imports**"
   ]
  },
  {
   "cell_type": "code",
   "execution_count": 1,
   "metadata": {
    "_cell_guid": "b1076dfc-b9ad-4769-8c92-a6c4dae69d19",
    "_uuid": "8f2839f25d086af736a60e9eeb907d3b93b6e0e5"
   },
   "outputs": [],
   "source": [
    "import pandas as pd\n",
    "import numpy as np\n",
    "from pandas import Series, DataFrame\n",
    "import seaborn as sns\n",
    "import matplotlib.pyplot as plt\n",
    "from sklearn.model_selection import cross_val_score\n",
    "from sklearn.linear_model import Ridge as Ridge\n",
    "from sklearn.linear_model import ElasticNet\n",
    "from sklearn.linear_model import Lasso, Ridge\n",
    "from xgboost.sklearn import  XGBRegressor\n",
    "from sklearn.ensemble import GradientBoostingRegressor\n",
    "from xgboost import XGBRegressor\n",
    "# Any results you write to the current directory are saved as output."
   ]
  },
  {
   "cell_type": "markdown",
   "metadata": {},
   "source": [
    "**Load Data**"
   ]
  },
  {
   "cell_type": "code",
   "execution_count": 2,
   "metadata": {
    "_cell_guid": "79c7e3d0-c299-4dcb-8224-4455121ee9b0",
    "_uuid": "d629ff2d2480ee46fbb7e2d37f6b5fab8052498a"
   },
   "outputs": [
    {
     "name": "stdout",
     "output_type": "stream",
     "text": [
      "Train set size: (1460, 81)\n",
      "Test set size: (1459, 80)\n"
     ]
    },
    {
     "data": {
      "text/html": [
       "<div>\n",
       "<style scoped>\n",
       "    .dataframe tbody tr th:only-of-type {\n",
       "        vertical-align: middle;\n",
       "    }\n",
       "\n",
       "    .dataframe tbody tr th {\n",
       "        vertical-align: top;\n",
       "    }\n",
       "\n",
       "    .dataframe thead th {\n",
       "        text-align: right;\n",
       "    }\n",
       "</style>\n",
       "<table border=\"1\" class=\"dataframe\">\n",
       "  <thead>\n",
       "    <tr style=\"text-align: right;\">\n",
       "      <th></th>\n",
       "      <th>Id</th>\n",
       "      <th>MSSubClass</th>\n",
       "      <th>MSZoning</th>\n",
       "      <th>LotFrontage</th>\n",
       "      <th>LotArea</th>\n",
       "      <th>Street</th>\n",
       "      <th>Alley</th>\n",
       "      <th>LotShape</th>\n",
       "      <th>LandContour</th>\n",
       "      <th>Utilities</th>\n",
       "      <th>...</th>\n",
       "      <th>PoolArea</th>\n",
       "      <th>PoolQC</th>\n",
       "      <th>Fence</th>\n",
       "      <th>MiscFeature</th>\n",
       "      <th>MiscVal</th>\n",
       "      <th>MoSold</th>\n",
       "      <th>YrSold</th>\n",
       "      <th>SaleType</th>\n",
       "      <th>SaleCondition</th>\n",
       "      <th>SalePrice</th>\n",
       "    </tr>\n",
       "  </thead>\n",
       "  <tbody>\n",
       "    <tr>\n",
       "      <th>0</th>\n",
       "      <td>1</td>\n",
       "      <td>60</td>\n",
       "      <td>RL</td>\n",
       "      <td>65.0</td>\n",
       "      <td>8450</td>\n",
       "      <td>Pave</td>\n",
       "      <td>NaN</td>\n",
       "      <td>Reg</td>\n",
       "      <td>Lvl</td>\n",
       "      <td>AllPub</td>\n",
       "      <td>...</td>\n",
       "      <td>0</td>\n",
       "      <td>NaN</td>\n",
       "      <td>NaN</td>\n",
       "      <td>NaN</td>\n",
       "      <td>0</td>\n",
       "      <td>2</td>\n",
       "      <td>2008</td>\n",
       "      <td>WD</td>\n",
       "      <td>Normal</td>\n",
       "      <td>208500</td>\n",
       "    </tr>\n",
       "    <tr>\n",
       "      <th>1</th>\n",
       "      <td>2</td>\n",
       "      <td>20</td>\n",
       "      <td>RL</td>\n",
       "      <td>80.0</td>\n",
       "      <td>9600</td>\n",
       "      <td>Pave</td>\n",
       "      <td>NaN</td>\n",
       "      <td>Reg</td>\n",
       "      <td>Lvl</td>\n",
       "      <td>AllPub</td>\n",
       "      <td>...</td>\n",
       "      <td>0</td>\n",
       "      <td>NaN</td>\n",
       "      <td>NaN</td>\n",
       "      <td>NaN</td>\n",
       "      <td>0</td>\n",
       "      <td>5</td>\n",
       "      <td>2007</td>\n",
       "      <td>WD</td>\n",
       "      <td>Normal</td>\n",
       "      <td>181500</td>\n",
       "    </tr>\n",
       "    <tr>\n",
       "      <th>2</th>\n",
       "      <td>3</td>\n",
       "      <td>60</td>\n",
       "      <td>RL</td>\n",
       "      <td>68.0</td>\n",
       "      <td>11250</td>\n",
       "      <td>Pave</td>\n",
       "      <td>NaN</td>\n",
       "      <td>IR1</td>\n",
       "      <td>Lvl</td>\n",
       "      <td>AllPub</td>\n",
       "      <td>...</td>\n",
       "      <td>0</td>\n",
       "      <td>NaN</td>\n",
       "      <td>NaN</td>\n",
       "      <td>NaN</td>\n",
       "      <td>0</td>\n",
       "      <td>9</td>\n",
       "      <td>2008</td>\n",
       "      <td>WD</td>\n",
       "      <td>Normal</td>\n",
       "      <td>223500</td>\n",
       "    </tr>\n",
       "    <tr>\n",
       "      <th>3</th>\n",
       "      <td>4</td>\n",
       "      <td>70</td>\n",
       "      <td>RL</td>\n",
       "      <td>60.0</td>\n",
       "      <td>9550</td>\n",
       "      <td>Pave</td>\n",
       "      <td>NaN</td>\n",
       "      <td>IR1</td>\n",
       "      <td>Lvl</td>\n",
       "      <td>AllPub</td>\n",
       "      <td>...</td>\n",
       "      <td>0</td>\n",
       "      <td>NaN</td>\n",
       "      <td>NaN</td>\n",
       "      <td>NaN</td>\n",
       "      <td>0</td>\n",
       "      <td>2</td>\n",
       "      <td>2006</td>\n",
       "      <td>WD</td>\n",
       "      <td>Abnorml</td>\n",
       "      <td>140000</td>\n",
       "    </tr>\n",
       "    <tr>\n",
       "      <th>4</th>\n",
       "      <td>5</td>\n",
       "      <td>60</td>\n",
       "      <td>RL</td>\n",
       "      <td>84.0</td>\n",
       "      <td>14260</td>\n",
       "      <td>Pave</td>\n",
       "      <td>NaN</td>\n",
       "      <td>IR1</td>\n",
       "      <td>Lvl</td>\n",
       "      <td>AllPub</td>\n",
       "      <td>...</td>\n",
       "      <td>0</td>\n",
       "      <td>NaN</td>\n",
       "      <td>NaN</td>\n",
       "      <td>NaN</td>\n",
       "      <td>0</td>\n",
       "      <td>12</td>\n",
       "      <td>2008</td>\n",
       "      <td>WD</td>\n",
       "      <td>Normal</td>\n",
       "      <td>250000</td>\n",
       "    </tr>\n",
       "  </tbody>\n",
       "</table>\n",
       "<p>5 rows × 81 columns</p>\n",
       "</div>"
      ],
      "text/plain": [
       "   Id  MSSubClass MSZoning  LotFrontage  LotArea Street Alley LotShape  \\\n",
       "0   1          60       RL         65.0     8450   Pave   NaN      Reg   \n",
       "1   2          20       RL         80.0     9600   Pave   NaN      Reg   \n",
       "2   3          60       RL         68.0    11250   Pave   NaN      IR1   \n",
       "3   4          70       RL         60.0     9550   Pave   NaN      IR1   \n",
       "4   5          60       RL         84.0    14260   Pave   NaN      IR1   \n",
       "\n",
       "  LandContour Utilities    ...     PoolArea PoolQC Fence MiscFeature MiscVal  \\\n",
       "0         Lvl    AllPub    ...            0    NaN   NaN         NaN       0   \n",
       "1         Lvl    AllPub    ...            0    NaN   NaN         NaN       0   \n",
       "2         Lvl    AllPub    ...            0    NaN   NaN         NaN       0   \n",
       "3         Lvl    AllPub    ...            0    NaN   NaN         NaN       0   \n",
       "4         Lvl    AllPub    ...            0    NaN   NaN         NaN       0   \n",
       "\n",
       "  MoSold YrSold  SaleType  SaleCondition  SalePrice  \n",
       "0      2   2008        WD         Normal     208500  \n",
       "1      5   2007        WD         Normal     181500  \n",
       "2      9   2008        WD         Normal     223500  \n",
       "3      2   2006        WD        Abnorml     140000  \n",
       "4     12   2008        WD         Normal     250000  \n",
       "\n",
       "[5 rows x 81 columns]"
      ]
     },
     "execution_count": 2,
     "metadata": {},
     "output_type": "execute_result"
    }
   ],
   "source": [
    "#Data reading\n",
    "train = pd.read_csv(\"../input/train.csv\")\n",
    "test  = pd.read_csv(\"../input/test.csv\")\n",
    "\n",
    "print(\"Train set size:\", train.shape)\n",
    "print(\"Test set size:\", test.shape)\n",
    "\n",
    "train.head(5)"
   ]
  },
  {
   "cell_type": "code",
   "execution_count": 3,
   "metadata": {},
   "outputs": [
    {
     "data": {
      "text/plain": [
       "<matplotlib.axes._subplots.AxesSubplot at 0x7fb25eacdf28>"
      ]
     },
     "execution_count": 3,
     "metadata": {},
     "output_type": "execute_result"
    },
    {
     "data": {
      "image/png": "[encoded data removed]",
      "text/plain": [
       "<Figure size 432x288 with 1 Axes>"
      ]
     },
     "metadata": {
      "needs_background": "light"
     },
     "output_type": "display_data"
    }
   ],
   "source": [
    "sns.distplot(train.SalePrice)"
   ]
  },
  {
   "cell_type": "markdown",
   "metadata": {},
   "source": [
    "It turns out there is a long tail of outlying properties with high sale prices, which biases the mean to be much higher than the median. We can correct this with a simple log transformation."
   ]
  },
  {
   "cell_type": "code",
   "execution_count": 4,
   "metadata": {},
   "outputs": [
    {
     "data": {
      "image/png": "[encoded data removed]",
      "text/plain": [
       "<Figure size 432x288 with 1 Axes>"
      ]
     },
     "metadata": {
      "needs_background": "light"
     },
     "output_type": "display_data"
    }
   ],
   "source": [
    "sns.distplot(np.log(train.SalePrice + 1))\n",
    "\n",
    "all_data = pd.concat((train.drop([\"SalePrice\"], axis=1), test))"
   ]
  },
  {
   "cell_type": "code",
   "execution_count": 5,
   "metadata": {},
   "outputs": [
    {
     "data": {
      "text/plain": [
       "<matplotlib.axes._subplots.AxesSubplot at 0x7fb25c93ba90>"
      ]
     },
     "execution_count": 5,
     "metadata": {},
     "output_type": "execute_result"
    },
    {
     "data": {
      "image/png": "[encoded data removed]",
      "text/plain": [
       "<Figure size 864x432 with 1 Axes>"
      ]
     },
     "metadata": {
      "needs_background": "light"
     },
     "output_type": "display_data"
    }
   ],
   "source": [
    "#Data Visulization for missing values\n",
    "all_data = pd.concat((train.drop([\"SalePrice\"], axis=1), test))\n",
    "all_data_na = (all_data.isnull().sum() / len(all_data)) * 100\n",
    "all_data_na = all_data_na.drop(all_data_na[all_data_na == 0].index).sort_values(ascending=False)\n",
    "plt.figure(figsize=(12, 6))\n",
    "plt.xticks(rotation=\"90\")\n",
    "sns.barplot(x=all_data_na.index, y=all_data_na)"
   ]
  },
  {
   "cell_type": "markdown",
   "metadata": {},
   "source": [
    "PoolQC(Pool quality) "
   ]
  },
  {
   "cell_type": "code",
   "execution_count": 6,
   "metadata": {},
   "outputs": [],
   "source": [
    "all_data = pd.concat((train.drop([\"SalePrice\"], axis=1), test))"
   ]
  },
  {
   "cell_type": "markdown",
   "metadata": {},
   "source": [
    "Most of \"PoolQC\"can be filled with 'None'. However, there're three exceptions. \n",
    "When PoolQC is missing the PoolArea should be 0. However, there are three NaN's foor PoolQC that have a PoolArea. Let's impute them based on overall quality of the house."
   ]
  },
  {
   "cell_type": "code",
   "execution_count": 7,
   "metadata": {},
   "outputs": [
    {
     "data": {
      "text/html": [
       "<div>\n",
       "<style scoped>\n",
       "    .dataframe tbody tr th:only-of-type {\n",
       "        vertical-align: middle;\n",
       "    }\n",
       "\n",
       "    .dataframe tbody tr th {\n",
       "        vertical-align: top;\n",
       "    }\n",
       "\n",
       "    .dataframe thead th {\n",
       "        text-align: right;\n",
       "    }\n",
       "</style>\n",
       "<table border=\"1\" class=\"dataframe\">\n",
       "  <thead>\n",
       "    <tr style=\"text-align: right;\">\n",
       "      <th></th>\n",
       "      <th>PoolArea</th>\n",
       "      <th>PoolQC</th>\n",
       "    </tr>\n",
       "  </thead>\n",
       "  <tbody>\n",
       "    <tr>\n",
       "      <th>197</th>\n",
       "      <td>512</td>\n",
       "      <td>Ex</td>\n",
       "    </tr>\n",
       "    <tr>\n",
       "      <th>810</th>\n",
       "      <td>648</td>\n",
       "      <td>Fa</td>\n",
       "    </tr>\n",
       "    <tr>\n",
       "      <th>1170</th>\n",
       "      <td>576</td>\n",
       "      <td>Gd</td>\n",
       "    </tr>\n",
       "    <tr>\n",
       "      <th>1182</th>\n",
       "      <td>555</td>\n",
       "      <td>Ex</td>\n",
       "    </tr>\n",
       "    <tr>\n",
       "      <th>1298</th>\n",
       "      <td>480</td>\n",
       "      <td>Gd</td>\n",
       "    </tr>\n",
       "    <tr>\n",
       "      <th>1386</th>\n",
       "      <td>519</td>\n",
       "      <td>Fa</td>\n",
       "    </tr>\n",
       "    <tr>\n",
       "      <th>1423</th>\n",
       "      <td>738</td>\n",
       "      <td>Gd</td>\n",
       "    </tr>\n",
       "    <tr>\n",
       "      <th>514</th>\n",
       "      <td>144</td>\n",
       "      <td>Ex</td>\n",
       "    </tr>\n",
       "    <tr>\n",
       "      <th>960</th>\n",
       "      <td>368</td>\n",
       "      <td>NaN</td>\n",
       "    </tr>\n",
       "    <tr>\n",
       "      <th>1043</th>\n",
       "      <td>444</td>\n",
       "      <td>NaN</td>\n",
       "    </tr>\n",
       "    <tr>\n",
       "      <th>1113</th>\n",
       "      <td>228</td>\n",
       "      <td>Ex</td>\n",
       "    </tr>\n",
       "    <tr>\n",
       "      <th>1139</th>\n",
       "      <td>561</td>\n",
       "      <td>NaN</td>\n",
       "    </tr>\n",
       "    <tr>\n",
       "      <th>1250</th>\n",
       "      <td>800</td>\n",
       "      <td>Gd</td>\n",
       "    </tr>\n",
       "  </tbody>\n",
       "</table>\n",
       "</div>"
      ],
      "text/plain": [
       "      PoolArea PoolQC\n",
       "197        512     Ex\n",
       "810        648     Fa\n",
       "1170       576     Gd\n",
       "1182       555     Ex\n",
       "1298       480     Gd\n",
       "1386       519     Fa\n",
       "1423       738     Gd\n",
       "514        144     Ex\n",
       "960        368    NaN\n",
       "1043       444    NaN\n",
       "1113       228     Ex\n",
       "1139       561    NaN\n",
       "1250       800     Gd"
      ]
     },
     "execution_count": 7,
     "metadata": {},
     "output_type": "execute_result"
    }
   ],
   "source": [
    "train = train.fillna({\"PoolQC\": \"None\"})\n",
    "test = test.fillna({\"PoolQC\": \"None\"})\n",
    "\n",
    "all_data[all_data.PoolArea != 0][[\"PoolArea\", \"PoolQC\"]]"
   ]
  },
  {
   "cell_type": "code",
   "execution_count": 8,
   "metadata": {},
   "outputs": [],
   "source": [
    "test.loc[960, \"PoolQC\"] = \"Fa\"\n",
    "test.loc[1043, \"PoolQC\"] = \"Gd\"\n",
    "test.loc[1139, \"PoolQC\"] = \"Fa\""
   ]
  },
  {
   "cell_type": "markdown",
   "metadata": {},
   "source": [
    "Special cases for Garage Type. Most of the Garage tpes can be filled with none. We fill some special cases with mode."
   ]
  },
  {
   "cell_type": "code",
   "execution_count": 9,
   "metadata": {},
   "outputs": [],
   "source": [
    "# Garage\n",
    "test.loc[666, \"GarageYrBlt\"] = 1979\n",
    "test.loc[1116, \"GarageYrBlt\"] = 1979\n",
    "\n",
    "test.loc[666, \"GarageFinish\"] = \"Unf\"\n",
    "test.loc[1116, \"GarageFinish\"] = \"Unf\"\n",
    "\n",
    "test.loc[1116, \"GarageCars\"] = 2\n",
    "test.loc[1116, \"GarageArea\"] = 480\n",
    "\n",
    "test.loc[666, \"GarageQual\"] = \"TA\"\n",
    "test.loc[1116, \"GarageQual\"] = \"TA\"\n",
    "\n",
    "test.loc[666, \"GarageCond\"] = \"TA\"\n",
    "test.loc[1116, \"GarageCond\"] = \"TA\""
   ]
  },
  {
   "cell_type": "markdown",
   "metadata": {},
   "source": [
    "fill with 'none' or 0"
   ]
  },
  {
   "cell_type": "code",
   "execution_count": 10,
   "metadata": {},
   "outputs": [],
   "source": [
    "# MiscFeature,Fence,Utilities, Exterior2nd,LandSlope\n",
    "train = train.drop([\"Fence\", \"MiscFeature\", \"Utilities\", 'Street'], axis=1)\n",
    "test = test.drop([\"Fence\", \"MiscFeature\", \"Utilities\", 'Street'], axis=1)\n",
    "train = train.drop([\"LandSlope\", \"Exterior2nd\"], axis=1)\n",
    "test = test.drop([\"LandSlope\", \"Exterior2nd\"], axis=1)\n",
    "\n",
    "# Alley\n",
    "train = train.fillna({\"Alley\": \"None\"})\n",
    "test = test.fillna({\"Alley\": \"None\"})\n",
    "\n",
    "# FireplaceQu\n",
    "train = train.fillna({\"FireplaceQu\": \"None\"})\n",
    "test = test.fillna({\"FireplaceQu\": \"None\"})\n",
    "\n",
    "# LotFrontage\n",
    "train = train.fillna({\"LotFrontage\": 0})\n",
    "test = test.fillna({\"LotFrontage\": 0})\n",
    "\n",
    "# Garage\n",
    "train = train.fillna({\"GarageType\": \"None\"})\n",
    "test = test.fillna({\"GarageType\": \"None\"})\n",
    "train = train.fillna({\"GarageYrBlt\": 0})\n",
    "test = test.fillna({\"GarageYrBlt\": 0})\n",
    "train = train.fillna({\"GarageFinish\": \"None\"})\n",
    "test = test.fillna({\"GarageFinish\": \"None\"})\n",
    "test = test.fillna({\"GarageCars\": 0})\n",
    "test = test.fillna({\"GarageArea\": 0})\n",
    "train = train.fillna({\"GarageQual\": \"None\"})\n",
    "test = test.fillna({\"GarageQual\": \"None\"})\n",
    "train = train.fillna({\"GarageCond\": \"None\"})\n",
    "test = test.fillna({\"GarageCond\": \"None\"})\n",
    "\n",
    "# Bsmt\n",
    "train = train.fillna({\"BsmtQual\": \"None\"})\n",
    "test = test.fillna({\"BsmtQual\": \"None\"})\n",
    "train = train.fillna({\"BsmtCond\": \"None\"})\n",
    "test = test.fillna({\"BsmtCond\": \"None\"})\n",
    "train = train.fillna({\"BsmtExposure\": \"None\"})\n",
    "test = test.fillna({\"BsmtExposure\": \"None\"})\n",
    "train = train.fillna({\"BsmtFinType1\": \"None\"})\n",
    "test = test.fillna({\"BsmtFinType1\": \"None\"})\n",
    "train = train.fillna({\"BsmtFinSF1\": 0})\n",
    "test = test.fillna({\"BsmtFinSF1\": 0})\n",
    "train = train.fillna({\"BsmtFinType2\": \"None\"})\n",
    "test = test.fillna({\"BsmtFinType2\": \"None\"})\n",
    "test = test.fillna({\"BsmtFinSF2\": 0})\n",
    "test = test.fillna({\"BsmtUnfSF\": 0})\n",
    "test = test.fillna({\"TotalBsmtSF\": 0})\n",
    "test = test.fillna({\"BsmtFullBath\": 0})\n",
    "test = test.fillna({\"BsmtHalfBath\": 0})\n",
    "\n",
    "# MasVnr\n",
    "train = train.fillna({\"MasVnrType\": \"None\"})\n",
    "test = test.fillna({\"MasVnrType\": \"None\"})\n",
    "train = train.fillna({\"MasVnrArea\": 0})\n",
    "test = test.fillna({\"MasVnrArea\": 0})\n",
    "\n",
    "\n",
    "\n"
   ]
  },
  {
   "cell_type": "markdown",
   "metadata": {},
   "source": [
    "Some exceptions:\n",
    "\n",
    "Functional: The documentation says that we should assume \"Typ\", so lets impute that.\n",
    "\n",
    "Electrical: The documentation doesn't give any information but obviously every house has this so let's impute the most common value: \"SBrkr\".\n",
    "\n",
    "KitchenQual: Similar to Electrical, most common value: \"TA\".\n",
    "\n",
    "Exterior 1 and Exterior 2: Let's use the most common one here.\n",
    "\n",
    "SaleType: Similar to electrical, let's use most common value."
   ]
  },
  {
   "cell_type": "code",
   "execution_count": 11,
   "metadata": {},
   "outputs": [],
   "source": [
    "# other\n",
    "test = test.fillna({\"MSZoning\": \"RL\"})\n",
    "test = test.fillna({\"Exterior1st\": \"VinylSd\"})\n",
    "test = test.fillna({\"Exterior2nd\": \"VinylSd\"})\n",
    "train = train.fillna({\"Electrical\": \"SBrkr\"})\n",
    "test = test.fillna({\"KitchenQual\": \"TA\"})\n",
    "test = test.fillna({\"Functional\": \"Typ\"})\n",
    "test = test.fillna({\"SaleType\": \"WD\"})"
   ]
  },
  {
   "cell_type": "markdown",
   "metadata": {},
   "source": [
    "Now we're just left with a handful of remaining features/properties that have NaN values. \n",
    "All of them happen to be categorical variables, and I just replace the missing values with the mode for that feature. Most of the remaining NaNs are in the test dataset, otherwise I might have just deleted them.\n",
    "\n"
   ]
  },
  {
   "cell_type": "code",
   "execution_count": 12,
   "metadata": {},
   "outputs": [],
   "source": [
    "features_mode = {}\n",
    "for f in test:\n",
    "    f,':', list(test[f].dropna().mode().values)\n",
    "    features_mode[f] = list(test[f].dropna().mode().values)[0]\n",
    "test.fillna(features_mode,inplace=True)"
   ]
  },
  {
   "cell_type": "code",
   "execution_count": 13,
   "metadata": {},
   "outputs": [
    {
     "data": {
      "text/plain": [
       "0"
      ]
     },
     "execution_count": 13,
     "metadata": {},
     "output_type": "execute_result"
    }
   ],
   "source": [
    "train.isnull().sum().sum()\n",
    "test.isnull().sum().sum()"
   ]
  },
  {
   "cell_type": "code",
   "execution_count": 14,
   "metadata": {},
   "outputs": [],
   "source": [
    "\n",
    "train_dummies = pd.get_dummies(\n",
    "    pd.concat((train.drop([\"SalePrice\",\"Id\"], axis=1), test.drop([\"Id\"], axis=1)), axis=0)).iloc[: train.shape[0]]\n",
    "\n",
    "test_dummies = pd.get_dummies(\n",
    "    pd.concat((train.drop([\"SalePrice\",\"Id\"], axis=1), test.drop([\"Id\"], axis=1)), axis=0)).iloc[train.shape[0]:]\n",
    "\n",
    "\n",
    "y = train[\"SalePrice\"]\n",
    "y = np.log(y + 1)"
   ]
  },
  {
   "cell_type": "markdown",
   "metadata": {},
   "source": [
    "**Remove Outliers**"
   ]
  },
  {
   "cell_type": "markdown",
   "metadata": {},
   "source": [
    "Now time to start fitting some models! First I fit a linear regression Ridge model, because it immediately gives good results with default values. My goal here is to use a straightforward model to identify any outlying points - properties with sale prices far away from what's expected given their features.\n",
    "\n",
    "The function I define below fits the model and checks the residuals between the model's predicted sale prices and the true sale prices. The standard deviation of the residuals is calculated, and the 20 or so properties with residuals greater than three times this standard deviation are removed from the training data so they don't skew the parameters of the fitted models.\n",
    "\n",
    "Just Ridge with default values already gives a decent prediction, which is a promising sign."
   ]
  },
  {
   "cell_type": "code",
   "execution_count": 15,
   "metadata": {},
   "outputs": [
    {
     "data": {
      "text/plain": [
       "[<matplotlib.lines.Line2D at 0x7fb2540924e0>]"
      ]
     },
     "execution_count": 15,
     "metadata": {},
     "output_type": "execute_result"
    },
    {
     "data": {
      "image/png": "[encoded data removed]",
      "text/plain": [
       "<Figure size 432x432 with 1 Axes>"
      ]
     },
     "metadata": {
      "needs_background": "light"
     },
     "output_type": "display_data"
    }
   ],
   "source": [
    "rr = Ridge(alpha=10)\n",
    "rr.fit(train_dummies, y)\n",
    "np.sqrt(-cross_val_score(rr, train_dummies, y, cv=5, scoring=\"neg_mean_squared_error\")).mean()\n",
    "\n",
    "y_pred = rr.predict(train_dummies)\n",
    "resid = y - y_pred\n",
    "mean_resid = resid.mean()\n",
    "std_resid = resid.std()\n",
    "z = (resid - mean_resid) / std_resid\n",
    "z = np.array(z)\n",
    "outliers1 = np.where(abs(z) > abs(z).std() * 3)[0]\n",
    "\n",
    "plt.figure(figsize=(6, 6))\n",
    "plt.scatter(y, y_pred)\n",
    "plt.scatter(y.iloc[outliers1], y_pred[outliers1])\n",
    "plt.plot(range(10, 15), range(10, 15), color=\"red\")\n",
    "\n",
    "\n",
    "\n"
   ]
  },
  {
   "cell_type": "code",
   "execution_count": 16,
   "metadata": {},
   "outputs": [
    {
     "data": {
      "text/plain": [
       "[<matplotlib.lines.Line2D at 0x7fb25400e630>]"
      ]
     },
     "execution_count": 16,
     "metadata": {},
     "output_type": "execute_result"
    },
    {
     "data": {
      "image/png": "[encoded data removed]",
      "text/plain": [
       "<Figure size 432x432 with 1 Axes>"
      ]
     },
     "metadata": {
      "needs_background": "light"
     },
     "output_type": "display_data"
    }
   ],
   "source": [
    "er = ElasticNet(alpha=0.001, l1_ratio=0.58)\n",
    "er.fit(train_dummies, y)\n",
    "np.sqrt(-cross_val_score(rr, train_dummies, y, cv=5, scoring=\"neg_mean_squared_error\")).mean()\n",
    "\n",
    "y_pred = er.predict(train_dummies)\n",
    "resid = y - y_pred\n",
    "mean_resid = resid.mean()\n",
    "std_resid = resid.std()\n",
    "z = (resid - mean_resid) / std_resid\n",
    "z = np.array(z)\n",
    "outliers2 = np.where(abs(z) > abs(z).std() * 3)[0]\n",
    "\n",
    "plt.figure(figsize=(6, 6))\n",
    "plt.scatter(y, y_pred)\n",
    "plt.scatter(y.iloc[outliers2], y_pred[outliers2])\n",
    "plt.plot(range(10, 15), range(10, 15), color=\"red\")"
   ]
  },
  {
   "cell_type": "markdown",
   "metadata": {},
   "source": [
    "Find outliers from these two modles"
   ]
  },
  {
   "cell_type": "code",
   "execution_count": 17,
   "metadata": {},
   "outputs": [
    {
     "data": {
      "text/plain": [
       "[30,\n",
       " 88,\n",
       " 142,\n",
       " 277,\n",
       " 328,\n",
       " 410,\n",
       " 438,\n",
       " 462,\n",
       " 495,\n",
       " 523,\n",
       " 533,\n",
       " 581,\n",
       " 588,\n",
       " 628,\n",
       " 632,\n",
       " 681,\n",
       " 688,\n",
       " 710,\n",
       " 714,\n",
       " 728,\n",
       " 774,\n",
       " 812,\n",
       " 874,\n",
       " 898,\n",
       " 916,\n",
       " 968,\n",
       " 970,\n",
       " 1181,\n",
       " 1182,\n",
       " 1298,\n",
       " 1324,\n",
       " 1383,\n",
       " 1423,\n",
       " 1432,\n",
       " 1453]"
      ]
     },
     "execution_count": 17,
     "metadata": {},
     "output_type": "execute_result"
    }
   ],
   "source": [
    "outliers = []\n",
    "for i in outliers1:\n",
    "    for j in outliers2:\n",
    "        if i == j:\n",
    "            outliers.append(i)\n",
    "outliers"
   ]
  },
  {
   "cell_type": "markdown",
   "metadata": {},
   "source": [
    "Delete outliers:"
   ]
  },
  {
   "cell_type": "code",
   "execution_count": 18,
   "metadata": {},
   "outputs": [],
   "source": [
    "train = train.drop(\n",
    "    [30, 88, 410, 462, 495, 523, 588, 628, 632, 874, 898, 968, 970, 1182, 1298, 1324, 1432])"
   ]
  },
  {
   "cell_type": "markdown",
   "metadata": {},
   "source": [
    "**Modeling**"
   ]
  },
  {
   "cell_type": "code",
   "execution_count": 19,
   "metadata": {},
   "outputs": [],
   "source": [
    "#dummies\n",
    "train_dummies = pd.get_dummies(pd.concat((train.drop([\"SalePrice\",\"Id\"], axis=1), test.drop([\"Id\"], axis=1)), axis=0)).iloc[: train.shape[0]]\n",
    "test_dummies = pd.get_dummies(pd.concat((train.drop([\"SalePrice\",\"Id\"], axis=1), test.drop([\"Id\"], axis=1)), axis=0)).iloc[train.shape[0]:]\n",
    "\n",
    "y = train[\"SalePrice\"]\n",
    "y = np.log(y + 1)"
   ]
  },
  {
   "cell_type": "markdown",
   "metadata": {},
   "source": [
    "GBDT"
   ]
  },
  {
   "cell_type": "code",
   "execution_count": 20,
   "metadata": {},
   "outputs": [
    {
     "name": "stdout",
     "output_type": "stream",
     "text": [
      "0.10772397226821533\n"
     ]
    }
   ],
   "source": [
    "gbr = GradientBoostingRegressor(max_depth=4, n_estimators=150)\n",
    "gbr.fit(train_dummies, y)\n",
    "print(np.sqrt(-cross_val_score(gbr, train_dummies, y, cv=5, scoring=\"neg_mean_squared_error\")).mean())"
   ]
  },
  {
   "cell_type": "markdown",
   "metadata": {},
   "source": [
    "XGB"
   ]
  },
  {
   "cell_type": "code",
   "execution_count": 21,
   "metadata": {},
   "outputs": [
    {
     "name": "stdout",
     "output_type": "stream",
     "text": [
      "[04:03:28] WARNING: /workspace/src/objective/regression_obj.cu:152: reg:linear is now deprecated in favor of reg:squarederror.\n"
     ]
    },
    {
     "name": "stderr",
     "output_type": "stream",
     "text": [
      "/opt/conda/lib/python3.6/site-packages/xgboost/core.py:587: FutureWarning: Series.base is deprecated and will be removed in a future version\n",
      "  if getattr(data, 'base', None) is not None and \\\n"
     ]
    },
    {
     "name": "stdout",
     "output_type": "stream",
     "text": [
      "[04:03:35] WARNING: /workspace/src/objective/regression_obj.cu:152: reg:linear is now deprecated in favor of reg:squarederror.\n"
     ]
    },
    {
     "name": "stderr",
     "output_type": "stream",
     "text": [
      "/opt/conda/lib/python3.6/site-packages/xgboost/core.py:587: FutureWarning: Series.base is deprecated and will be removed in a future version\n",
      "  if getattr(data, 'base', None) is not None and \\\n"
     ]
    },
    {
     "name": "stdout",
     "output_type": "stream",
     "text": [
      "[04:03:40] WARNING: /workspace/src/objective/regression_obj.cu:152: reg:linear is now deprecated in favor of reg:squarederror.\n"
     ]
    },
    {
     "name": "stderr",
     "output_type": "stream",
     "text": [
      "/opt/conda/lib/python3.6/site-packages/xgboost/core.py:587: FutureWarning: Series.base is deprecated and will be removed in a future version\n",
      "  if getattr(data, 'base', None) is not None and \\\n"
     ]
    },
    {
     "name": "stdout",
     "output_type": "stream",
     "text": [
      "[04:03:46] WARNING: /workspace/src/objective/regression_obj.cu:152: reg:linear is now deprecated in favor of reg:squarederror.\n"
     ]
    },
    {
     "name": "stderr",
     "output_type": "stream",
     "text": [
      "/opt/conda/lib/python3.6/site-packages/xgboost/core.py:587: FutureWarning: Series.base is deprecated and will be removed in a future version\n",
      "  if getattr(data, 'base', None) is not None and \\\n"
     ]
    },
    {
     "name": "stdout",
     "output_type": "stream",
     "text": [
      "[04:03:52] WARNING: /workspace/src/objective/regression_obj.cu:152: reg:linear is now deprecated in favor of reg:squarederror.\n"
     ]
    },
    {
     "name": "stderr",
     "output_type": "stream",
     "text": [
      "/opt/conda/lib/python3.6/site-packages/xgboost/core.py:587: FutureWarning: Series.base is deprecated and will be removed in a future version\n",
      "  if getattr(data, 'base', None) is not None and \\\n"
     ]
    },
    {
     "name": "stdout",
     "output_type": "stream",
     "text": [
      "[04:03:57] WARNING: /workspace/src/objective/regression_obj.cu:152: reg:linear is now deprecated in favor of reg:squarederror.\n",
      "0.10594162965543949\n"
     ]
    }
   ],
   "source": [
    "xgbr = XGBRegressor(max_depth=5, n_estimators=400)\n",
    "xgbr.fit(train_dummies, y)\n",
    "print(np.sqrt(-cross_val_score(xgbr, train_dummies, y, cv=5, scoring=\"neg_mean_squared_error\")).mean())"
   ]
  },
  {
   "cell_type": "markdown",
   "metadata": {},
   "source": [
    "Lasso"
   ]
  },
  {
   "cell_type": "code",
   "execution_count": 22,
   "metadata": {},
   "outputs": [
    {
     "name": "stdout",
     "output_type": "stream",
     "text": [
      "0.09791223944597244\n"
     ]
    }
   ],
   "source": [
    "lsr = Lasso(alpha=0.00047)\n",
    "lsr.fit(train_dummies, y)\n",
    "print(np.sqrt(-cross_val_score(lsr, train_dummies, y, cv=5, scoring=\"neg_mean_squared_error\")).mean())"
   ]
  },
  {
   "cell_type": "markdown",
   "metadata": {},
   "source": [
    "Ridge"
   ]
  },
  {
   "cell_type": "code",
   "execution_count": 23,
   "metadata": {},
   "outputs": [
    {
     "data": {
      "text/plain": [
       "0.09982391453758796"
      ]
     },
     "execution_count": 23,
     "metadata": {},
     "output_type": "execute_result"
    }
   ],
   "source": [
    "rr = Ridge(alpha=13)\n",
    "rr.fit(train_dummies, y)\n",
    "np.sqrt(-cross_val_score(rr, train_dummies, y, cv=5, scoring=\"neg_mean_squared_error\")).mean()"
   ]
  },
  {
   "cell_type": "markdown",
   "metadata": {},
   "source": [
    "Model"
   ]
  },
  {
   "cell_type": "code",
   "execution_count": 24,
   "metadata": {},
   "outputs": [
    {
     "data": {
      "text/plain": [
       "array([12.2334835 , 12.1478452 , 12.28494214, ..., 12.4740715 ,\n",
       "       11.84868613, 11.9074862 ])"
      ]
     },
     "execution_count": 24,
     "metadata": {},
     "output_type": "execute_result"
    }
   ],
   "source": [
    "train_predict = 0.1 * gbr.predict(train_dummies) + 0.3 * xgbr.predict(train_dummies) + 0.3 * lsr.predict(train_dummies) + 0.3 * rr.predict(train_dummies)\n",
    "                                                                                                                                           \n",
    "train_predict             "
   ]
  },
  {
   "cell_type": "markdown",
   "metadata": {},
   "source": [
    "Brutal approach to deal with predictions close to outer range."
   ]
  },
  {
   "cell_type": "code",
   "execution_count": 25,
   "metadata": {},
   "outputs": [],
   "source": [
    "q1 = pd.DataFrame(train_predict).quantile(0.0042)\n",
    "pre_df = pd.DataFrame(train_predict)\n",
    "pre_df[\"SalePrice\"] = train_predict\n",
    "pre_df = pre_df[[\"SalePrice\"]]\n",
    "pre_df.loc[pre_df.SalePrice <= q1[0], \"SalePrice\"] = pre_df.loc[pre_df.SalePrice <= q1[0], \"SalePrice\"] *0.99\n",
    "train_predict = np.array(pre_df.SalePrice)"
   ]
  },
  {
   "cell_type": "markdown",
   "metadata": {},
   "source": [
    "**Submission**"
   ]
  },
  {
   "cell_type": "code",
   "execution_count": 26,
   "metadata": {},
   "outputs": [],
   "source": [
    "sample_submission = pd.read_csv(\"../input/sample_submission.csv\")\n",
    "test_predict = 0.1 * gbr.predict(test_dummies) + 0.3 * xgbr.predict(test_dummies) + 0.3 * lsr.predict(test_dummies) + 0.3 * rr.predict(test_dummies)\n",
    "q1 = pd.DataFrame(test_predict).quantile(0.0042)\n",
    "pre_df = pd.DataFrame(test_predict)\n",
    "pre_df[\"SalePrice\"] = test_predict\n",
    "pre_df = pre_df[[\"SalePrice\"]]\n",
    "pre_df.loc[pre_df.SalePrice <= q1[0], \"SalePrice\"] = pre_df.loc[pre_df.SalePrice <= q1[0], \"SalePrice\"] *0.96\n",
    "test_predict = np.array(pre_df.SalePrice)\n"
   ]
  },
  {
   "cell_type": "code",
   "execution_count": 27,
   "metadata": {},
   "outputs": [
    {
     "name": "stderr",
     "output_type": "stream",
     "text": [
      "/opt/conda/lib/python3.6/site-packages/tensorflow/python/framework/dtypes.py:516: FutureWarning: Passing (type, 1) or '1type' as a synonym of type is deprecated; in a future version of numpy, it will be understood as (type, (1,)) / '(1,)type'.\n",
      "  _np_qint8 = np.dtype([(\"qint8\", np.int8, 1)])\n",
      "/opt/conda/lib/python3.6/site-packages/tensorflow/python/framework/dtypes.py:517: FutureWarning: Passing (type, 1) or '1type' as a synonym of type is deprecated; in a future version of numpy, it will be understood as (type, (1,)) / '(1,)type'.\n",
      "  _np_quint8 = np.dtype([(\"quint8\", np.uint8, 1)])\n",
      "/opt/conda/lib/python3.6/site-packages/tensorflow/python/framework/dtypes.py:518: FutureWarning: Passing (type, 1) or '1type' as a synonym of type is deprecated; in a future version of numpy, it will be understood as (type, (1,)) / '(1,)type'.\n",
      "  _np_qint16 = np.dtype([(\"qint16\", np.int16, 1)])\n",
      "/opt/conda/lib/python3.6/site-packages/tensorflow/python/framework/dtypes.py:519: FutureWarning: Passing (type, 1) or '1type' as a synonym of type is deprecated; in a future version of numpy, it will be understood as (type, (1,)) / '(1,)type'.\n",
      "  _np_quint16 = np.dtype([(\"quint16\", np.uint16, 1)])\n",
      "/opt/conda/lib/python3.6/site-packages/tensorflow/python/framework/dtypes.py:520: FutureWarning: Passing (type, 1) or '1type' as a synonym of type is deprecated; in a future version of numpy, it will be understood as (type, (1,)) / '(1,)type'.\n",
      "  _np_qint32 = np.dtype([(\"qint32\", np.int32, 1)])\n",
      "/opt/conda/lib/python3.6/site-packages/tensorflow/python/framework/dtypes.py:525: FutureWarning: Passing (type, 1) or '1type' as a synonym of type is deprecated; in a future version of numpy, it will be understood as (type, (1,)) / '(1,)type'.\n",
      "  np_resource = np.dtype([(\"resource\", np.ubyte, 1)])\n",
      "/opt/conda/lib/python3.6/site-packages/tensorboard/compat/tensorflow_stub/dtypes.py:541: FutureWarning: Passing (type, 1) or '1type' as a synonym of type is deprecated; in a future version of numpy, it will be understood as (type, (1,)) / '(1,)type'.\n",
      "  _np_qint8 = np.dtype([(\"qint8\", np.int8, 1)])\n",
      "/opt/conda/lib/python3.6/site-packages/tensorboard/compat/tensorflow_stub/dtypes.py:542: FutureWarning: Passing (type, 1) or '1type' as a synonym of type is deprecated; in a future version of numpy, it will be understood as (type, (1,)) / '(1,)type'.\n",
      "  _np_quint8 = np.dtype([(\"quint8\", np.uint8, 1)])\n",
      "/opt/conda/lib/python3.6/site-packages/tensorboard/compat/tensorflow_stub/dtypes.py:543: FutureWarning: Passing (type, 1) or '1type' as a synonym of type is deprecated; in a future version of numpy, it will be understood as (type, (1,)) / '(1,)type'.\n",
      "  _np_qint16 = np.dtype([(\"qint16\", np.int16, 1)])\n",
      "/opt/conda/lib/python3.6/site-packages/tensorboard/compat/tensorflow_stub/dtypes.py:544: FutureWarning: Passing (type, 1) or '1type' as a synonym of type is deprecated; in a future version of numpy, it will be understood as (type, (1,)) / '(1,)type'.\n",
      "  _np_quint16 = np.dtype([(\"quint16\", np.uint16, 1)])\n",
      "/opt/conda/lib/python3.6/site-packages/tensorboard/compat/tensorflow_stub/dtypes.py:545: FutureWarning: Passing (type, 1) or '1type' as a synonym of type is deprecated; in a future version of numpy, it will be understood as (type, (1,)) / '(1,)type'.\n",
      "  _np_qint32 = np.dtype([(\"qint32\", np.int32, 1)])\n",
      "/opt/conda/lib/python3.6/site-packages/tensorboard/compat/tensorflow_stub/dtypes.py:550: FutureWarning: Passing (type, 1) or '1type' as a synonym of type is deprecated; in a future version of numpy, it will be understood as (type, (1,)) / '(1,)type'.\n",
      "  np_resource = np.dtype([(\"resource\", np.ubyte, 1)])\n"
     ]
    }
   ],
   "source": [
    "sample_submission[\"SalePrice\"] = np.exp(test_predict)\n",
    "sample_submission.to_csv(\"ssss.csv\", index=False)"
   ]
  }
 ],
 "metadata": {
  "kernelspec": {
   "display_name": "Python 3",
   "language": "python",
   "name": "python3"
  },
  "language_info": {
   "codemirror_mode": {
    "name": "ipython",
    "version": 3
   },
   "file_extension": ".py",
   "mimetype": "text/x-python",
   "name": "python",
   "nbconvert_exporter": "python",
   "pygments_lexer": "ipython3",
   "version": "3.6.6"
  }
 },
 "nbformat": 4,
 "nbformat_minor": 1
}
